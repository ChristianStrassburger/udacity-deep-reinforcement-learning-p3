{
 "cells": [
  {
   "cell_type": "markdown",
   "metadata": {},
   "source": [
    "# Collaboration and Competition\n",
    "\n",
    "---\n",
    "\n",
    "In this notebook, you will learn how to use the Unity ML-Agents environment for the third project of the [Deep Reinforcement Learning Nanodegree](https://www.udacity.com/course/deep-reinforcement-learning-nanodegree--nd893) program.\n",
    "\n",
    "### 1. Start the Environment\n",
    "\n",
    "We begin by importing the necessary packages.  If the code cell below returns an error, please revisit the project instructions to double-check that you have installed [Unity ML-Agents](https://github.com/Unity-Technologies/ml-agents/blob/master/docs/Installation.md) and [NumPy](http://www.numpy.org/)."
   ]
  },
  {
   "cell_type": "code",
   "execution_count": 1,
   "metadata": {},
   "outputs": [],
   "source": [
    "from unityagents import UnityEnvironment\n",
    "import numpy as np"
   ]
  },
  {
   "cell_type": "markdown",
   "metadata": {},
   "source": [
    "Next, we will start the environment!  **_Before running the code cell below_**, change the `file_name` parameter to match the location of the Unity environment that you downloaded.\n",
    "\n",
    "- **Mac**: `\"path/to/Tennis.app\"`\n",
    "- **Windows** (x86): `\"path/to/Tennis_Windows_x86/Tennis.exe\"`\n",
    "- **Windows** (x86_64): `\"path/to/Tennis_Windows_x86_64/Tennis.exe\"`\n",
    "- **Linux** (x86): `\"path/to/Tennis_Linux/Tennis.x86\"`\n",
    "- **Linux** (x86_64): `\"path/to/Tennis_Linux/Tennis.x86_64\"`\n",
    "- **Linux** (x86, headless): `\"path/to/Tennis_Linux_NoVis/Tennis.x86\"`\n",
    "- **Linux** (x86_64, headless): `\"path/to/Tennis_Linux_NoVis/Tennis.x86_64\"`\n",
    "\n",
    "For instance, if you are using a Mac, then you downloaded `Tennis.app`.  If this file is in the same folder as the notebook, then the line below should appear as follows:\n",
    "```\n",
    "env = UnityEnvironment(file_name=\"Tennis.app\")\n",
    "```"
   ]
  },
  {
   "cell_type": "code",
   "execution_count": 2,
   "metadata": {},
   "outputs": [
    {
     "name": "stderr",
     "output_type": "stream",
     "text": [
      "INFO:unityagents:\n",
      "'Academy' started successfully!\n",
      "Unity Academy name: Academy\n",
      "        Number of Brains: 1\n",
      "        Number of External Brains : 1\n",
      "        Lesson number : 0\n",
      "        Reset Parameters :\n",
      "\t\t\n",
      "Unity brain name: TennisBrain\n",
      "        Number of Visual Observations (per agent): 0\n",
      "        Vector Observation space type: continuous\n",
      "        Vector Observation space size (per agent): 8\n",
      "        Number of stacked Vector Observation: 3\n",
      "        Vector Action space type: continuous\n",
      "        Vector Action space size (per agent): 2\n",
      "        Vector Action descriptions: , \n"
     ]
    }
   ],
   "source": [
    "env = UnityEnvironment(file_name=\"Environment/Tennis.exe\")"
   ]
  },
  {
   "cell_type": "markdown",
   "metadata": {},
   "source": [
    "Environments contain **_brains_** which are responsible for deciding the actions of their associated agents. Here we check for the first brain available, and set it as the default brain we will be controlling from Python."
   ]
  },
  {
   "cell_type": "code",
   "execution_count": 3,
   "metadata": {},
   "outputs": [],
   "source": [
    "# get the default brain\n",
    "brain_name = env.brain_names[0]\n",
    "brain = env.brains[brain_name]"
   ]
  },
  {
   "cell_type": "markdown",
   "metadata": {},
   "source": [
    "### 2. Examine the State and Action Spaces\n",
    "\n",
    "In this environment, two agents control rackets to bounce a ball over a net. If an agent hits the ball over the net, it receives a reward of +0.1.  If an agent lets a ball hit the ground or hits the ball out of bounds, it receives a reward of -0.01.  Thus, the goal of each agent is to keep the ball in play.\n",
    "\n",
    "The observation space consists of 8 variables corresponding to the position and velocity of the ball and racket. Two continuous actions are available, corresponding to movement toward (or away from) the net, and jumping. \n",
    "\n",
    "Run the code cell below to print some information about the environment."
   ]
  },
  {
   "cell_type": "code",
   "execution_count": 4,
   "metadata": {},
   "outputs": [
    {
     "name": "stdout",
     "output_type": "stream",
     "text": [
      "Number of agents: 2\n",
      "Size of each action: 2\n",
      "There are 2 agents. Each observes a state with length: 24\n",
      "The state for the first agent looks like: [ 0.          0.          0.          0.          0.          0.\n",
      "  0.          0.          0.          0.          0.          0.\n",
      "  0.          0.          0.          0.         -6.65278625 -1.5\n",
      " -0.          0.          6.83172083  6.         -0.          0.        ]\n"
     ]
    }
   ],
   "source": [
    "# reset the environment\n",
    "env_info = env.reset(train_mode=True)[brain_name]\n",
    "\n",
    "# number of agents \n",
    "num_agents = len(env_info.agents)\n",
    "print('Number of agents:', num_agents)\n",
    "\n",
    "# size of each action\n",
    "action_size = brain.vector_action_space_size\n",
    "print('Size of each action:', action_size)\n",
    "\n",
    "# examine the state space \n",
    "states = env_info.vector_observations\n",
    "state_size = states.shape[1]\n",
    "print('There are {} agents. Each observes a state with length: {}'.format(states.shape[0], state_size))\n",
    "print('The state for the first agent looks like:', states[0])"
   ]
  },
  {
   "cell_type": "markdown",
   "metadata": {},
   "source": [
    "### 3. Take Random Actions in the Environment\n",
    "\n",
    "In the next code cell, you will learn how to use the Python API to control the agents and receive feedback from the environment.\n",
    "\n",
    "Once this cell is executed, you will watch the agents' performance, if they select actions at random with each time step.  A window should pop up that allows you to observe the agents.\n",
    "\n",
    "Of course, as part of the project, you'll have to change the code so that the agents are able to use their experiences to gradually choose better actions when interacting with the environment!"
   ]
  },
  {
   "cell_type": "code",
   "execution_count": 5,
   "metadata": {
    "scrolled": false
   },
   "outputs": [],
   "source": [
    "#for i in range(1, 6):                                      # play game for 5 episodes\n",
    "#    env_info = env.reset(train_mode=False)[brain_name]     # reset the environment    \n",
    "#    states = env_info.vector_observations                  # get the current state (for each agent)\n",
    "#    scores = np.zeros(num_agents)                          # initialize the score (for each agent)\n",
    "#    while True:\n",
    "#        actions = np.random.randn(num_agents, action_size) # select an action (for each agent)\n",
    "#        actions = np.clip(actions, -1, 1)                  # all actions between -1 and 1\n",
    "#        env_info = env.step(actions)[brain_name]           # send all actions to tne environment\n",
    "#        next_states = env_info.vector_observations         # get next state (for each agent)\n",
    "#        rewards = env_info.rewards                         # get reward (for each agent)\n",
    "#        dones = env_info.local_done                        # see if episode finished\n",
    "#        scores += env_info.rewards                         # update the score (for each agent)\n",
    "#        states = next_states                               # roll over states to next time step\n",
    "#        if np.any(dones):                                  # exit loop if episode finished\n",
    "#            break\n",
    "#    print('Score (max over agents) from episode {}: {}'.format(i, np.max(scores)))"
   ]
  },
  {
   "cell_type": "markdown",
   "metadata": {},
   "source": [
    "When finished, you can close the environment."
   ]
  },
  {
   "cell_type": "code",
   "execution_count": 6,
   "metadata": {},
   "outputs": [],
   "source": [
    "#env.close()"
   ]
  },
  {
   "cell_type": "markdown",
   "metadata": {},
   "source": [
    "### 4. It's Your Turn!\n",
    "\n",
    "Now it's your turn to train your own agent to solve the environment!  When training the environment, set `train_mode=True`, so that the line for resetting the environment looks like the following:\n",
    "```python\n",
    "env_info = env.reset(train_mode=True)[brain_name]\n",
    "```"
   ]
  },
  {
   "cell_type": "markdown",
   "metadata": {},
   "source": [
    "### 4.1 Settings"
   ]
  },
  {
   "cell_type": "code",
   "execution_count": 7,
   "metadata": {},
   "outputs": [],
   "source": [
    "import torch\n",
    "from ddpg_agent import Agent\n",
    "from ddpg_result_visualization import plot_scores, format_episode_score\n",
    "from ddpg_gridsearch import DDPGGridsearch\n",
    "from collections import deque\n",
    "from numpy import random"
   ]
  },
  {
   "cell_type": "code",
   "execution_count": 8,
   "metadata": {},
   "outputs": [
    {
     "name": "stdout",
     "output_type": "stream",
     "text": [
      "cuda\n"
     ]
    }
   ],
   "source": [
    "device = torch.device(\"cuda\" if torch.cuda.is_available() else \"cpu\")\n",
    "print(device)"
   ]
  },
  {
   "cell_type": "markdown",
   "metadata": {},
   "source": [
    "### 4.2 Requirements to solve the environment"
   ]
  },
  {
   "cell_type": "code",
   "execution_count": 9,
   "metadata": {},
   "outputs": [
    {
     "name": "stdout",
     "output_type": "stream",
     "text": [
      "Moving average size: 100\n",
      "Minimum moving average score: 0.5\n"
     ]
    }
   ],
   "source": [
    "moving_avg_size = 100\n",
    "min_moving_avg_score = 0.5\n",
    "print(f\"Moving average size: {moving_avg_size}\")\n",
    "print(f\"Minimum moving average score: {min_moving_avg_score}\")"
   ]
  },
  {
   "cell_type": "markdown",
   "metadata": {},
   "source": [
    "### 4.3 Train the Agent with DDPG"
   ]
  },
  {
   "cell_type": "code",
   "execution_count": 10,
   "metadata": {},
   "outputs": [],
   "source": [
    "def ddpg(agent, n_episodes=1000, max_t=1000, print_every=100, moving_avg_size=100,\n",
    "         min_moving_avg_score=0.5, min_skip_episodes = 500, skip_score = 0.01):\n",
    "    \n",
    "    scores = []\n",
    "    moving_avg_scores = []\n",
    "    scores_window = deque(maxlen=moving_avg_size)\n",
    "    needed_episodes = 0\n",
    "    best_moving_avg_score = 0\n",
    "    solved = False\n",
    "    \n",
    "    for i_episode in range(1, n_episodes+1):  \n",
    "        env_info = env.reset(train_mode=True)[brain_name]\n",
    "        episode_scores = np.zeros(num_agents)                    # initialize the score (for each agent)\n",
    "        agent.reset()                                            # reset the OUNoise object\n",
    "        states = env_info.vector_observations             \n",
    "\n",
    "        for t in range(max_t):    \n",
    "            action1 =  agent.act(states[0])\n",
    "            action2 =  agent.act(states[1])\n",
    "            actions = np.concatenate((action1, action2), axis=0)\n",
    "            env_info = env.step(actions)[brain_name]             # send actions to the environment\n",
    "            next_states = env_info.vector_observations           # get next state (for each agent)\n",
    "            rewards = env_info.rewards                           # get reward (for each agent)\n",
    "            dones = env_info.local_done                          # see if episode finished\n",
    "            agent.step(states, actions, rewards, next_states, dones)\n",
    "            states = next_states                                 # roll over states to next time step\n",
    "            \n",
    "            episode_scores += rewards                            # update the score\n",
    "            if np.any(dones):                                    # exit loop if episode finished\n",
    "                break\n",
    "\n",
    "        \n",
    "        episode_score = np.max(episode_scores)\n",
    "        scores.append(episode_score)           \n",
    "        scores_window.append(episode_score)\n",
    "        moving_avg_score = np.mean(scores_window)\n",
    "        moving_avg_scores.append(moving_avg_score)\n",
    "        \n",
    "        if moving_avg_score > best_moving_avg_score:\n",
    "            best_moving_avg_score = moving_avg_score\n",
    "        \n",
    "        if (i_episode == min_skip_episodes) and moving_avg_score < skip_score: # skip episode if score is too low\n",
    "            print(format_episode_score(i_episode, episode_score, moving_avg_score))\n",
    "            print(f\"Episodes skipped\\tEnvironment not solved!\")\n",
    "            break\n",
    "        \n",
    "        if i_episode % print_every == 0:\n",
    "            print(format_episode_score(i_episode, episode_score, moving_avg_score))\n",
    "        \n",
    "        if (i_episode >= moving_avg_size) and (moving_avg_score >= min_moving_avg_score):\n",
    "            print(format_episode_score(i_episode, episode_score, moving_avg_score))\n",
    "            print(f\"Environment solved!\")\n",
    "            needed_episodes = i_episode - moving_avg_size\n",
    "            solved = True\n",
    "            break\n",
    "        \n",
    "        if (i_episode+1 == n_episodes+1) and (moving_avg_score < min_moving_avg_score):\n",
    "            print(format_episode_score(i_episode, episode_score, moving_avg_score))\n",
    "            print(f\"Environment not solved!\")\n",
    "            \n",
    "    return scores, moving_avg_scores, best_moving_avg_score, needed_episodes, solved"
   ]
  },
  {
   "cell_type": "code",
   "execution_count": 11,
   "metadata": {},
   "outputs": [],
   "source": [
    "def save_model_weights(agents=[]):\n",
    "    for idx, agent in enumerate(agents):\n",
    "        actor_cp = f\"checkpoint_actor_{idx+1}.pth\"\n",
    "        critic_cp = f\"checkpoint_critic_{idx+1}.pth\"\n",
    "        torch.save(agent.actor_local.state_dict(), actor_cp)   \n",
    "        torch.save(agent.critic_local.state_dict(), critic_cp)"
   ]
  },
  {
   "cell_type": "code",
   "execution_count": 12,
   "metadata": {
    "scrolled": false
   },
   "outputs": [
    {
     "name": "stdout",
     "output_type": "stream",
     "text": [
      "DDPGGridsearch hyperparameters:\n",
      "lr_actor: [0.0015]\n",
      "lr critic: [0.0015]\n",
      "gamma: [0.99]\n",
      "buffer size: [100000]\n",
      "batch size: [128]\n",
      "weight decay: [0]\n",
      "random seed: [1]\n",
      "fc1 units actor: [300]\n",
      "fc2 units actor: [200]\n",
      "fc3 units actor: [100]\n",
      "fc1 units critic: [200]\n",
      "fc2 units critic: [100]\n",
      "\n",
      "DQNHyperparameters: 1/1\n",
      "lr_actor: 0.0015\n",
      "lr_critic: 0.0015\n",
      "gamma: 0.99\n",
      "buffer_size: 100000\n",
      "batch_size: 128\n",
      "tau: 0.003\n",
      "weight_decay: 0\n",
      "random_seed: 1\n",
      "fc1_units actor: 300\n",
      "fc2_units actor: 200\n",
      "fc3_units actor: 100\n",
      "fc1_units critic: 200\n",
      "fc2_units critic: 100\n",
      "\n",
      "Episode: 100\tEpisode score: 0.0900\tMoving average score: 0.0183\n",
      "Episode: 200\tEpisode score: 0.0000\tMoving average score: 0.0206\n",
      "Episode: 300\tEpisode score: 0.0000\tMoving average score: 0.0048\n",
      "Episode: 400\tEpisode score: 0.1000\tMoving average score: 0.0430\n",
      "Episode: 500\tEpisode score: 0.0000\tMoving average score: 0.0236\n",
      "Episode: 600\tEpisode score: 0.1000\tMoving average score: 0.0747\n",
      "Episode: 700\tEpisode score: 0.1000\tMoving average score: 0.2028\n",
      "Episode: 800\tEpisode score: 0.3000\tMoving average score: 0.2303\n",
      "Episode: 878\tEpisode score: 0.3000\tMoving average score: 0.5006\n",
      "Environment solved!\n",
      "\n",
      "Best DDPGHyperparameters:\n",
      "lr_actor: 0.0015\n",
      "lr_critic: 0.0015\n",
      "gamma: 0.99\n",
      "buffer_size: 100000\n",
      "batch_size: 128\n",
      "tau: 0.003\n",
      "weight_decay: 0\n",
      "random_seed: 1\n",
      "fc1_units actor: 300\n",
      "fc2_units actor: 200\n",
      "fc3_units actor: 100\n",
      "fc1_units critic: 200\n",
      "fc2_units critic: 100\n",
      "\n",
      "Solved in 778 episodes.\n"
     ]
    }
   ],
   "source": [
    "gridsearch = DDPGGridsearch()\n",
    "hyperparameters = gridsearch.create_gridsearch_params() #create a grid search hyperparameters list\n",
    "\n",
    "print(\"DDPGGridsearch hyperparameters:\")\n",
    "print(gridsearch)\n",
    "print()\n",
    "params_len = len(hyperparameters)\n",
    "\n",
    "n_episodes = 2500\n",
    "print_every = 100\n",
    "max_t = 1000\n",
    "best_scores = []\n",
    "best_avg_score = 0\n",
    "best_moving_avg_scores = []\n",
    "best_needed_episodes = 0\n",
    "best_params = None\n",
    "moving_avg_scores = []\n",
    "\n",
    "for idx, params in enumerate(hyperparameters): #for every DDPQHyperparameters object \n",
    "    print(f\"DQNHyperparameters: {idx+1}/{params_len}\")\n",
    "    print(params)\n",
    "    print()\n",
    "    agent = Agent(device, params, state_size, action_size)\n",
    "    \n",
    "    scores, moving_avg_scores, moving_avg_score, needed_episodes, solved = ddpg(agent=agent, \n",
    "                                                    n_episodes=n_episodes, max_t=max_t, \n",
    "                                                    print_every=print_every, \n",
    "                                                    moving_avg_size=moving_avg_size, \n",
    "                                                    min_moving_avg_score=min_moving_avg_score)\n",
    "\n",
    "    if (moving_avg_score >= best_avg_score): # find the best moving average score\n",
    "        best_scores = scores\n",
    "        best_needed_episodes = needed_episodes\n",
    "        best_avg_score = moving_avg_score\n",
    "        best_moving_avg_scores = moving_avg_scores\n",
    "        best_params = params\n",
    "        save_model_weights([agent])\n",
    "        \n",
    "    if solved:\n",
    "        break\n",
    "        \n",
    "    print()\n",
    "    \n",
    "print()\n",
    "print(\"Best DDPGHyperparameters:\")\n",
    "print(best_params)\n",
    "print()\n",
    "print(f\"Solved in {best_needed_episodes} episodes.\")"
   ]
  },
  {
   "cell_type": "markdown",
   "metadata": {},
   "source": [
    "### 4.4 Solution"
   ]
  },
  {
   "cell_type": "code",
   "execution_count": 13,
   "metadata": {},
   "outputs": [
    {
     "data": {
      "image/png": "[encoded data removed]",
      "text/plain": [
       "<Figure size 432x288 with 1 Axes>"
      ]
     },
     "metadata": {
      "needs_background": "light"
     },
     "output_type": "display_data"
    }
   ],
   "source": [
    "plot_scores(best_scores, best_moving_avg_scores)"
   ]
  },
  {
   "cell_type": "markdown",
   "metadata": {},
   "source": [
    "The environment was solved with the DDPG algorithm in 778 episodes.\n",
    "\n",
    "<strong>Model Architecture:</strong><br>\n",
    "2 Actor networks with 4 linear layers and 1 batch normalization layer:<br>\n",
    "Linear layer 1: 24 x 300<br>\n",
    "Batch normalization layer<br>\n",
    "Linear layer 2: 300 x 200<br>\n",
    "Linear layer 3: 200 x 100<br>\n",
    "Linear layer 4: 100 x 2<br>\n",
    "\n",
    "2 Critic networks with 3 linear layers and 1 batch normalization layer:<br>\n",
    "Linear layer 1: 24 x 200<br>\n",
    "Batch normalization layer<br>\n",
    "Linear layer 2: (200+2) x 100<br>\n",
    "Linear layer 3: 100 x 1<br>\n",
    "\n",
    "<strong>Hyperparameters:</strong><br>\n",
    "Learning rate actor: 0.00015<br>\n",
    "Learning rate critic: 0.00015<br>\n",
    "Gamma: 0.99<br>\n",
    "Buffer size: 100000<br>\n",
    "Batch size: 128<br>\n",
    "Tau: 0.003<br>\n",
    "Weight decay: 0<br>"
   ]
  },
  {
   "cell_type": "markdown",
   "metadata": {},
   "source": [
    "<strong>Improvement</strong><br>\n",
    "The model performance could possibly improved by running several 2 agent games in parallel."
   ]
  },
  {
   "cell_type": "markdown",
   "metadata": {},
   "source": [
    "### 4.5. Close the environment"
   ]
  },
  {
   "cell_type": "code",
   "execution_count": 15,
   "metadata": {},
   "outputs": [],
   "source": [
    "env.close()"
   ]
  }
 ],
 "metadata": {
  "kernelspec": {
   "display_name": "Python 3",
   "language": "python",
   "name": "python3"
  },
  "language_info": {
   "codemirror_mode": {
    "name": "ipython",
    "version": 3
   },
   "file_extension": ".py",
   "mimetype": "text/x-python",
   "name": "python",
   "nbconvert_exporter": "python",
   "pygments_lexer": "ipython3",
   "version": "3.6.13"
  }
 },
 "nbformat": 4,
 "nbformat_minor": 2
}
